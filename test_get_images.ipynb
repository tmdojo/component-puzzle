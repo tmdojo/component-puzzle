{
 "cells": [
  {
   "cell_type": "code",
   "execution_count": 55,
   "id": "18786238-9825-4d66-bd93-0a4b115ddbac",
   "metadata": {},
   "outputs": [],
   "source": [
    "from pathlib import Path"
   ]
  },
  {
   "cell_type": "code",
   "execution_count": 80,
   "id": "503d387d-8674-466d-a36d-3dba60d3b9c1",
   "metadata": {},
   "outputs": [],
   "source": [
    "import time"
   ]
  },
  {
   "cell_type": "code",
   "execution_count": 1,
   "id": "9222f4e2-5112-452f-9a8f-9e795a19a9e1",
   "metadata": {},
   "outputs": [],
   "source": [
    "from bs4 import BeautifulSoup"
   ]
  },
  {
   "cell_type": "code",
   "execution_count": 2,
   "id": "241be1d3-b01a-479a-acbf-f233219d7d95",
   "metadata": {},
   "outputs": [],
   "source": [
    "import requests"
   ]
  },
  {
   "cell_type": "code",
   "execution_count": 36,
   "id": "a3ee47bc-7624-41ef-85af-f86e3a56e76d",
   "metadata": {},
   "outputs": [],
   "source": [
    "import urllib.request"
   ]
  },
  {
   "cell_type": "code",
   "execution_count": 47,
   "id": "ab1e66a5-637d-431f-9234-c3600a75306f",
   "metadata": {},
   "outputs": [],
   "source": [
    "url = \"https://product.tdk.com/ja/search/inductor/catalog\""
   ]
  },
  {
   "cell_type": "code",
   "execution_count": 27,
   "id": "424579e8-d7e9-4bba-866d-197948128c6a",
   "metadata": {},
   "outputs": [],
   "source": [
    "url_base = \"https://product.tdk.com\""
   ]
  },
  {
   "cell_type": "markdown",
   "id": "59ea2f4a-8552-4884-869c-b2edb236a57b",
   "metadata": {},
   "source": [
    "This code does not return... WHY????"
   ]
  },
  {
   "cell_type": "raw",
   "id": "fe7ba101-8cb3-40a3-abce-061bb7540596",
   "metadata": {},
   "source": [
    "r = requests.get(url)"
   ]
  },
  {
   "cell_type": "markdown",
   "id": "84e948f0-9856-46ba-a8f1-bb9055be7279",
   "metadata": {},
   "source": [
    "Saved the page as html on Chrome"
   ]
  },
  {
   "cell_type": "code",
   "execution_count": 4,
   "id": "b15e8f37-3175-4c74-aeb7-98f2d6d25050",
   "metadata": {},
   "outputs": [],
   "source": [
    "html_path = \"html/inductor.html\""
   ]
  },
  {
   "cell_type": "code",
   "execution_count": 5,
   "id": "6fc2304a-01c3-4055-9dba-18c883f615d3",
   "metadata": {},
   "outputs": [],
   "source": [
    "with open(html_path) as f:\n",
    "    soup = BeautifulSoup(f, 'html.parser')"
   ]
  },
  {
   "cell_type": "raw",
   "id": "5156667f-065f-49e6-8ba8-8cb912b267af",
   "metadata": {},
   "source": [
    "image_url = \"https://product.tdk.com/system/files/dam/img/product/inductor/inductor/smd/020001_mhq0603p_pi0101.png\""
   ]
  },
  {
   "cell_type": "raw",
   "id": "4b499ebc-6288-4824-b1e4-d786e911985f",
   "metadata": {},
   "source": [
    "image_tag = '<img src=\"/system/files/dam/img/product/inductor/inductor/smd/020001_mhq0603p_pi0101.png\" alt=\"インダクタ,コイル:MHQ0603P\">'"
   ]
  },
  {
   "cell_type": "code",
   "execution_count": 8,
   "id": "95ac5216-4535-4902-b8ef-167ab4eb560f",
   "metadata": {},
   "outputs": [],
   "source": [
    "img_tags = soup.find_all(\"img\")"
   ]
  },
  {
   "cell_type": "code",
   "execution_count": 9,
   "id": "ae2152a1-1431-4479-bccf-8087726fda1e",
   "metadata": {
    "tags": []
   },
   "outputs": [
    {
     "data": {
      "text/plain": [
       "1951"
      ]
     },
     "execution_count": 9,
     "metadata": {},
     "output_type": "execute_result"
    }
   ],
   "source": [
    "len(img_tags)"
   ]
  },
  {
   "cell_type": "code",
   "execution_count": 10,
   "id": "1fcc3e7b-0e93-400f-bf30-4de306810bba",
   "metadata": {},
   "outputs": [],
   "source": [
    "img = img_tags[10]"
   ]
  },
  {
   "cell_type": "code",
   "execution_count": 11,
   "id": "aa3e0df9-4b28-4f71-8a4f-dfa6fde6aca0",
   "metadata": {},
   "outputs": [
    {
     "data": {
      "text/plain": [
       "<img alt=\"\" class=\"image-style-news-thumbnail\" height=\"120\" src=\"https://www.tdk.com/system/files/styles/news_thumbnail/private/131750591/220315_01_thumbnail.jpg?itok=AZiHyZ51\" typeof=\"Image\" width=\"160\"/>"
      ]
     },
     "execution_count": 11,
     "metadata": {},
     "output_type": "execute_result"
    }
   ],
   "source": [
    "img"
   ]
  },
  {
   "cell_type": "code",
   "execution_count": 13,
   "id": "5a38f1f5-100a-4989-9d2f-e86220ade842",
   "metadata": {},
   "outputs": [
    {
     "data": {
      "text/plain": [
       "'https://www.tdk.com/system/files/styles/news_thumbnail/private/131750591/220315_01_thumbnail.jpg?itok=AZiHyZ51'"
      ]
     },
     "execution_count": 13,
     "metadata": {},
     "output_type": "execute_result"
    }
   ],
   "source": [
    "img['src']"
   ]
  },
  {
   "cell_type": "code",
   "execution_count": 14,
   "id": "1fa17955-44e3-4f7f-bed7-185a457da605",
   "metadata": {},
   "outputs": [
    {
     "data": {
      "text/plain": [
       "False"
      ]
     },
     "execution_count": 14,
     "metadata": {},
     "output_type": "execute_result"
    }
   ],
   "source": [
    "img['src'].startswith(\"/system/files/dam/img/product\")"
   ]
  },
  {
   "cell_type": "code",
   "execution_count": 30,
   "id": "80485e59-a3ee-4571-9696-1152efb4d809",
   "metadata": {},
   "outputs": [],
   "source": [
    "product_img_tags = []\n",
    "product_img_srcs = []\n",
    "for i, img_tag in enumerate(img_tags):\n",
    "    if not img_tag.has_key('src'):\n",
    "        continue\n",
    "    if img_tag['src'].startswith(\"/system/files/dam/img/product\"):\n",
    "        product_img_tags.append(img_tag)\n",
    "        product_img_srcs.append(img_tag['src'])"
   ]
  },
  {
   "cell_type": "code",
   "execution_count": 24,
   "id": "17648d9e-19e3-4bf2-9e39-8dab11fb51fd",
   "metadata": {},
   "outputs": [],
   "source": [
    "img_tag = img_tags[43]"
   ]
  },
  {
   "cell_type": "code",
   "execution_count": 25,
   "id": "dd3e2e15-58ee-4411-9984-19837c2f30fe",
   "metadata": {},
   "outputs": [
    {
     "data": {
      "text/plain": [
       "<img data-src=\"https://product.tdk.com/system/files/01fi_capacitor.png\"/>"
      ]
     },
     "execution_count": 25,
     "metadata": {},
     "output_type": "execute_result"
    }
   ],
   "source": [
    "img_tag"
   ]
  },
  {
   "cell_type": "code",
   "execution_count": 20,
   "id": "88242ddb-b652-47d2-a400-20e5bc0059b0",
   "metadata": {},
   "outputs": [
    {
     "ename": "KeyError",
     "evalue": "'src'",
     "output_type": "error",
     "traceback": [
      "\u001b[0;31m---------------------------------------------------------------------------\u001b[0m",
      "\u001b[0;31mKeyError\u001b[0m                                  Traceback (most recent call last)",
      "Input \u001b[0;32mIn [20]\u001b[0m, in \u001b[0;36m<cell line: 1>\u001b[0;34m()\u001b[0m\n\u001b[0;32m----> 1\u001b[0m \u001b[43mimg_tag\u001b[49m\u001b[43m[\u001b[49m\u001b[38;5;124;43m'\u001b[39;49m\u001b[38;5;124;43msrc\u001b[39;49m\u001b[38;5;124;43m'\u001b[39;49m\u001b[43m]\u001b[49m\n",
      "File \u001b[0;32m/Volumes/Transcend/GitHub/python-photo-mosaic/venv/lib/python3.9/site-packages/bs4/element.py:1519\u001b[0m, in \u001b[0;36mTag.__getitem__\u001b[0;34m(self, key)\u001b[0m\n\u001b[1;32m   1516\u001b[0m \u001b[38;5;28;01mdef\u001b[39;00m \u001b[38;5;21m__getitem__\u001b[39m(\u001b[38;5;28mself\u001b[39m, key):\n\u001b[1;32m   1517\u001b[0m     \u001b[38;5;124;03m\"\"\"tag[key] returns the value of the 'key' attribute for the Tag,\u001b[39;00m\n\u001b[1;32m   1518\u001b[0m \u001b[38;5;124;03m    and throws an exception if it's not there.\"\"\"\u001b[39;00m\n\u001b[0;32m-> 1519\u001b[0m     \u001b[38;5;28;01mreturn\u001b[39;00m \u001b[38;5;28;43mself\u001b[39;49m\u001b[38;5;241;43m.\u001b[39;49m\u001b[43mattrs\u001b[49m\u001b[43m[\u001b[49m\u001b[43mkey\u001b[49m\u001b[43m]\u001b[49m\n",
      "\u001b[0;31mKeyError\u001b[0m: 'src'"
     ]
    }
   ],
   "source": [
    "img_tag['src']"
   ]
  },
  {
   "cell_type": "code",
   "execution_count": 21,
   "id": "c6b78fc5-638c-4bd6-8507-98243793bbec",
   "metadata": {},
   "outputs": [
    {
     "data": {
      "text/plain": [
       "False"
      ]
     },
     "execution_count": 21,
     "metadata": {},
     "output_type": "execute_result"
    }
   ],
   "source": [
    "img_tag.has_key(\"src\")"
   ]
  },
  {
   "cell_type": "code",
   "execution_count": 26,
   "id": "b5323c5e-e321-4fc5-abd0-256de3e9e458",
   "metadata": {},
   "outputs": [
    {
     "data": {
      "text/plain": [
       "240"
      ]
     },
     "execution_count": 26,
     "metadata": {},
     "output_type": "execute_result"
    }
   ],
   "source": [
    "len(imgs)"
   ]
  },
  {
   "cell_type": "code",
   "execution_count": 28,
   "id": "6ca81f7f-fdbc-4014-8120-54fcfed0406b",
   "metadata": {},
   "outputs": [
    {
     "data": {
      "text/plain": [
       "<img alt=\"インダクタ,コイル:MHQ0603P\" src=\"/system/files/dam/img/product/inductor/inductor/smd/020001_mhq0603p_pi0101.png\"/>"
      ]
     },
     "execution_count": 28,
     "metadata": {},
     "output_type": "execute_result"
    }
   ],
   "source": [
    "imgs[0]"
   ]
  },
  {
   "cell_type": "code",
   "execution_count": 31,
   "id": "6cd2924f-04a4-47c0-9aaa-985e5bdfe653",
   "metadata": {},
   "outputs": [
    {
     "data": {
      "text/plain": [
       "240"
      ]
     },
     "execution_count": 31,
     "metadata": {},
     "output_type": "execute_result"
    }
   ],
   "source": [
    "len(product_img_srcs)"
   ]
  },
  {
   "cell_type": "code",
   "execution_count": 32,
   "id": "35353724-37d7-4c01-8d11-f8f98d90874b",
   "metadata": {},
   "outputs": [
    {
     "data": {
      "text/plain": [
       "52"
      ]
     },
     "execution_count": 32,
     "metadata": {},
     "output_type": "execute_result"
    }
   ],
   "source": [
    "len(set(product_img_srcs))"
   ]
  },
  {
   "cell_type": "code",
   "execution_count": 34,
   "id": "66aacc51-2ba4-444b-a2c9-a3afdd1dd778",
   "metadata": {},
   "outputs": [],
   "source": [
    "product_img_srcs_set = set(product_img_srcs)"
   ]
  },
  {
   "cell_type": "code",
   "execution_count": 35,
   "id": "b1275c8a-59c7-4362-90ba-c8ba20b99a91",
   "metadata": {},
   "outputs": [
    {
     "name": "stdout",
     "output_type": "stream",
     "text": [
      "/system/files/dam/img/product/inductor/inductor/smd/020001_klz1608_pi0101.png\n",
      "/system/files/dam/img/product/inductor/inductor/smd/020001_nlcv32-pf_pi0101.png\n",
      "/system/files/dam/img/product/inductor/inductor/smd/020001_vls3015cx-h_pi0101.png\n",
      "/system/files/dam/img/product/inductor/inductor/smd/020001_spm7054vt-d_pi0101.png\n",
      "/system/files/dam/img/product/inductor/inductor/smd/020001_vls3012hbx_pi0101.png\n",
      "/system/files/dam/img/product/inductor/inductor/smd/020001_spm6530-hz_pi0101.png\n",
      "/system/files/dam/img/product/inductor/inductor/smd/020001_vlbu6565100_pi0101.png\n",
      "/system/files/dam/img/product/inductor/inductor/smd/020001_mlz1608_pi0101.png\n",
      "/system/files/dam/img/product/inductor/inductor/smd/020001_vlcf4018-2_pi0101.png\n",
      "/system/files/dam/img/product/inductor/inductor/smd/020001_vlbu10060120_pi0101.png\n",
      "/system/files/dam/img/product/inductor/inductor/smd/020001_adl3225v_pi0101.png\n",
      "/system/files/dam/img/product/inductor/inductor/smd/020001_clf7045ni-d_pi0101.png\n",
      "/system/files/dam/img/product/inductor/inductor/smd/020001_mlg0402p_pi0101.png\n",
      "/system/files/dam/img/product/inductor/inductor/smd/020001_nlv25-pf_pi0101.png\n",
      "/system/files/dam/img/product/inductor/inductor/smd/020001_vlbu805080_pi0101.png\n",
      "/system/files/dam/img/product/inductor/inductor/smd/020001_adl2012_pi0101.png\n",
      "/system/files/dam/img/product/inductor/inductor/smd/020001_slf12565-h_pi0101.png\n",
      "/system/files/dam/img/product/inductor/inductor/smd/020001_mlj1005h_pi0101.png\n",
      "/system/files/dam/img/product/inductor/inductor/smd/020001_mlp1608_pi0101.png\n",
      "/system/files/dam/img/product/inductor/inductor/smd/020001_mlg0603p_pi0101.png\n",
      "/system/files/dam/img/product/inductor/inductor/smd/020001_mld2016_pi0101.png\n",
      "/system/files/dam/img/product/inductor/inductor/smd/020001_slf_pi0101.png\n",
      "/system/files/dam/img/product/inductor/inductor/smd/020001_adl3225vm_pi0101.png\n",
      "/system/files/dam/img/product/inductor/inductor/smd/020001_vlb10090ht-gt_pi0101.png\n",
      "/system/files/dam/img/product/inductor/inductor/smd/020001_mlg0603ppa_pi0101.png\n",
      "/system/files/dam/img/product/inductor/inductor/smd/020001_tfm160808_pi0101.png\n",
      "/system/files/dam/img/product/inductor/inductor/smd/020001_ltf4022-d_pi0101.png\n",
      "/system/files/dam/img/product/inductor/inductor/smd/020001_vlbu1024660f_pi0101.png\n",
      "/system/files/dam/img/product/inductor/inductor/smd/020001_mlf1608_pi0101.png\n",
      "/system/files/dam/img/product/inductor/inductor/smd/020001_spm4015-lr_pi0101.png\n",
      "/system/files/dam/img/product/inductor/inductor/smd/020001_vls6045ex-h_pi0101.png\n",
      "/system/files/dam/img/product/inductor/inductor/smd/020001_vlbu1007090_pi0101.png\n",
      "/system/files/dam/img/product/inductor/inductor/smd/020001_mlg0402q_pi0101.png\n",
      "/system/files/dam/img/product/inductor/inductor/smd/020001_vls252010hbu_pi0101.png\n",
      "/system/files/dam/img/product/inductor/inductor/transponder/020003_tc1210_pi0101.png\n",
      "/system/files/dam/img/product/inductor/inductor/smd/020001_tfm201208ald_pi0101.png\n",
      "/system/files/dam/img/product/inductor/inductor/smd/020001_vls252010hbx_pi0101.png\n",
      "/system/files/dam/img/product/inductor/inductor/smd/020001_vlbu9664100l_pi0101.png\n",
      "/system/files/dam/img/product/inductor/inductor/smd/020001_hpl758040f_pi0101.png\n",
      "/system/files/dam/img/product/inductor/inductor/smd/020001_tfm0ghm-tfm201610ghm_pi0101.png\n",
      "/system/files/dam/img/product/inductor/inductor/smd/020001_vlbs1007083_pi0101.png\n",
      "/system/files/dam/img/product/inductor/inductor/smd/020001_mlj1608_pi0101.png\n",
      "/system/files/dam/img/product/inductor/inductor/smd/020001_spm6530_pi0101.png\n",
      "/system/files/dam/img/product/inductor/inductor/smd/020001_mhq0603p_pi0101.png\n",
      "/system/files/dam/img/product/inductor/inductor/smd/020001_plea67_pi0101.png\n",
      "/system/files/dam/img/product/inductor/inductor/smd/020001_tfm201208bld_pi0101.png\n",
      "/system/files/dam/img/product/inductor/inductor/smd/020001_vlb7050_pi0101.png\n",
      "/system/files/dam/img/product/inductor/inductor/smd/020001_adl3225vt_pi0101.png\n",
      "/system/files/dam/img/product/inductor/inductor/smd/020001_tms252012alm_pi0101.png\n",
      "/system/files/dam/img/product/inductor/inductor/smd/020001_nlfv32-ef_pi0101.png\n",
      "/system/files/dam/img/product/inductor/inductor/smd/020001_vls6045ex_pi0101.png\n",
      "/system/files/dam/img/product/inductor/inductor/smd/020001_spm10040xt_pi0101.png\n"
     ]
    }
   ],
   "source": [
    "for src in product_img_srcs_set:\n",
    "    print(src)"
   ]
  },
  {
   "cell_type": "raw",
   "id": "32b8023d-aa7e-473b-a7fe-e4c8ea79c8eb",
   "metadata": {},
   "source": [
    "imgURL = \"http://site.meishij.net/r/58/25/3568808/a3568808_142682562777944.jpg\"\n",
    "urllib.request.urlretrieve(imgURL, \"D:/abc/image/local-filename.jpg\")"
   ]
  },
  {
   "cell_type": "code",
   "execution_count": 38,
   "id": "b95a6f93-6444-4c72-9e59-f58ccedc864c",
   "metadata": {},
   "outputs": [],
   "source": [
    "src = list(product_img_srcs_set)[0]"
   ]
  },
  {
   "cell_type": "code",
   "execution_count": 39,
   "id": "98ae1728-e1fc-4561-8b6e-fb89465264ba",
   "metadata": {},
   "outputs": [
    {
     "data": {
      "text/plain": [
       "'/system/files/dam/img/product/inductor/inductor/smd/020001_klz1608_pi0101.png'"
      ]
     },
     "execution_count": 39,
     "metadata": {},
     "output_type": "execute_result"
    }
   ],
   "source": [
    "src"
   ]
  },
  {
   "cell_type": "code",
   "execution_count": 41,
   "id": "00ec0bcc-75fd-4c2f-834a-664e91ca4bc0",
   "metadata": {},
   "outputs": [
    {
     "data": {
      "text/plain": [
       "'https://product.tdk.com/system/files/dam/img/product/inductor/inductor/smd/020001_klz1608_pi0101.png'"
      ]
     },
     "execution_count": 41,
     "metadata": {},
     "output_type": "execute_result"
    }
   ],
   "source": [
    "url_base + src"
   ]
  },
  {
   "cell_type": "raw",
   "id": "e669ecf6-8190-478b-90a2-7708be18c2e5",
   "metadata": {},
   "source": [
    "# it doesn't work without user-agent header\n",
    "urllib.request.urlretrieve(url_base+src, 'img/'+src)"
   ]
  },
  {
   "cell_type": "code",
   "execution_count": 43,
   "id": "ec090c3b-9fea-4d51-8cc6-8ba9de5b4925",
   "metadata": {},
   "outputs": [],
   "source": [
    "url = \"https://product.tdk.com/ja/index.html\""
   ]
  },
  {
   "cell_type": "raw",
   "id": "ef326f23-02f9-4d1e-89a8-a78db5e0e7bb",
   "metadata": {},
   "source": [
    "# doesn't work\n",
    "r = requests.get(url)"
   ]
  },
  {
   "cell_type": "code",
   "execution_count": 45,
   "id": "6ed62584-0941-4383-8038-0475c9320a4f",
   "metadata": {},
   "outputs": [],
   "source": [
    "# http://www.useragentstring.com/pages/useragentstring.php?name=Chrome\n",
    "headers = {'User-Agent': 'Mozilla/5.0 (Macintosh; Intel Mac OS X 10_15_3) AppleWebKit/537.36 (KHTML, like Gecko) Chrome/99.0.4844.84 Safari/537.36'}"
   ]
  },
  {
   "cell_type": "code",
   "execution_count": 48,
   "id": "dbf38cf4-1535-4ba3-98cc-2ed389266583",
   "metadata": {},
   "outputs": [],
   "source": [
    "# works!\n",
    "r = requests.get(url, headers=headers)"
   ]
  },
  {
   "cell_type": "code",
   "execution_count": 49,
   "id": "e1e9ac41-b20b-4fd7-97d7-719b74ec2dcc",
   "metadata": {},
   "outputs": [],
   "source": [
    "url = 'https://product.tdk.com/system/files/dam/img/product/inductor/inductor/smd/020001_klz1608_pi0101.png'\n",
    "r = requests.get(url, headers=headers)"
   ]
  },
  {
   "cell_type": "code",
   "execution_count": 51,
   "id": "65f0d2fd-45c8-47cb-aeb6-75bf71cb2c34",
   "metadata": {},
   "outputs": [
    {
     "ename": "FileNotFoundError",
     "evalue": "[Errno 2] No such file or directory: 'img/020001_klz1608_pi0101.png'",
     "output_type": "error",
     "traceback": [
      "\u001b[0;31m---------------------------------------------------------------------------\u001b[0m",
      "\u001b[0;31mFileNotFoundError\u001b[0m                         Traceback (most recent call last)",
      "Input \u001b[0;32mIn [51]\u001b[0m, in \u001b[0;36m<cell line: 1>\u001b[0;34m()\u001b[0m\n\u001b[0;32m----> 1\u001b[0m \u001b[38;5;28;43mopen\u001b[39;49m\u001b[43m(\u001b[49m\u001b[38;5;124;43m'\u001b[39;49m\u001b[38;5;124;43mimg/020001_klz1608_pi0101.png\u001b[39;49m\u001b[38;5;124;43m'\u001b[39;49m\u001b[43m,\u001b[49m\u001b[43m \u001b[49m\u001b[38;5;124;43m'\u001b[39;49m\u001b[38;5;124;43mwb\u001b[39;49m\u001b[38;5;124;43m'\u001b[39;49m\u001b[43m)\u001b[49m\u001b[38;5;241m.\u001b[39mwrite(r\u001b[38;5;241m.\u001b[39mcontent)\n",
      "\u001b[0;31mFileNotFoundError\u001b[0m: [Errno 2] No such file or directory: 'img/020001_klz1608_pi0101.png'"
     ]
    }
   ],
   "source": [
    "open('020001_klz1608_pi0101.png', 'wb').write(r.content)"
   ]
  },
  {
   "cell_type": "raw",
   "id": "e674f333-d344-4b72-97b8-1c58bd257066",
   "metadata": {},
   "source": [
    "import pathlib\n",
    "pathlib.Path(\"/tmp/path/to/desired/directory\").mkdir(parents=True, exist_ok=True)"
   ]
  },
  {
   "cell_type": "code",
   "execution_count": 53,
   "id": "2c1772d3-5506-4169-be2c-b2cd354fc9ef",
   "metadata": {},
   "outputs": [
    {
     "data": {
      "text/plain": [
       "'/system/files/dam/img/product/inductor/inductor/smd/020001_klz1608_pi0101.png'"
      ]
     },
     "execution_count": 53,
     "metadata": {},
     "output_type": "execute_result"
    }
   ],
   "source": [
    "src"
   ]
  },
  {
   "cell_type": "code",
   "execution_count": 56,
   "id": "ff5c25a3-8e00-47e8-a8e4-0f87a90cbaf3",
   "metadata": {},
   "outputs": [],
   "source": [
    "path = Path('img/product/inductor/inductor/smd/020001_klz1608_pi0101.png')"
   ]
  },
  {
   "cell_type": "code",
   "execution_count": 57,
   "id": "3e33c302-db6f-480f-8f71-dc44ea254f57",
   "metadata": {},
   "outputs": [
    {
     "data": {
      "text/plain": [
       "PosixPath('img/product/inductor/inductor/smd/020001_klz1608_pi0101.png')"
      ]
     },
     "execution_count": 57,
     "metadata": {},
     "output_type": "execute_result"
    }
   ],
   "source": [
    "path"
   ]
  },
  {
   "cell_type": "raw",
   "id": "439fefaa-ef7c-43bb-b2b7-9f2af8949f58",
   "metadata": {},
   "source": [
    "# it's not good to have file name as Path. It creates directory with that name as well\n",
    "path.mkdir(parents=True, exist_ok=True)"
   ]
  },
  {
   "cell_type": "code",
   "execution_count": 65,
   "id": "125f20ab-43a6-43e9-ab9a-0f12b3c6f688",
   "metadata": {},
   "outputs": [
    {
     "data": {
      "text/plain": [
       "PosixPath('img/product/inductor/inductor/smd')"
      ]
     },
     "execution_count": 65,
     "metadata": {},
     "output_type": "execute_result"
    }
   ],
   "source": [
    "path.parent"
   ]
  },
  {
   "cell_type": "code",
   "execution_count": 64,
   "id": "756f0d48-64c8-4e30-8ee9-e881bcadb006",
   "metadata": {},
   "outputs": [],
   "source": [
    "path.parent.mkdir(parents=True, exist_ok=True)"
   ]
  },
  {
   "cell_type": "markdown",
   "id": "220a722d-0fde-41db-b943-f879d5318b08",
   "metadata": {},
   "source": [
    "## get image"
   ]
  },
  {
   "cell_type": "code",
   "execution_count": 67,
   "id": "56b6a1b1-a881-40fe-a7b0-88b0d6736dee",
   "metadata": {},
   "outputs": [],
   "source": [
    "src = list(product_img_srcs_set)[0]"
   ]
  },
  {
   "cell_type": "code",
   "execution_count": 68,
   "id": "3a6930a3-eaa3-4884-b0ab-8bef373331e6",
   "metadata": {},
   "outputs": [
    {
     "data": {
      "text/plain": [
       "'/system/files/dam/img/product/inductor/inductor/smd/020001_klz1608_pi0101.png'"
      ]
     },
     "execution_count": 68,
     "metadata": {},
     "output_type": "execute_result"
    }
   ],
   "source": [
    "src"
   ]
  },
  {
   "cell_type": "code",
   "execution_count": 69,
   "id": "e8844a3b-573a-48fd-b3f4-5b72679397e5",
   "metadata": {},
   "outputs": [
    {
     "data": {
      "text/plain": [
       "'img/product/inductor/inductor/smd/020001_klz1608_pi0101.png'"
      ]
     },
     "execution_count": 69,
     "metadata": {},
     "output_type": "execute_result"
    }
   ],
   "source": [
    "src[18:]"
   ]
  },
  {
   "cell_type": "code",
   "execution_count": 71,
   "id": "a6014906-ed58-4c75-b7cd-5a6bd890c228",
   "metadata": {},
   "outputs": [],
   "source": [
    "path = Path(src[18:])"
   ]
  },
  {
   "cell_type": "code",
   "execution_count": 72,
   "id": "529a8a52-c894-46cc-b2bb-1a541bf59c15",
   "metadata": {},
   "outputs": [],
   "source": [
    "path.parent.mkdir(parents=True, exist_ok=True)"
   ]
  },
  {
   "cell_type": "code",
   "execution_count": 73,
   "id": "84a37ddb-28d2-4e9f-b294-bb3027ada95e",
   "metadata": {},
   "outputs": [],
   "source": [
    "url = url_base + src"
   ]
  },
  {
   "cell_type": "code",
   "execution_count": 74,
   "id": "f392d823-65f4-4f7c-b6f6-74550c4a9112",
   "metadata": {},
   "outputs": [],
   "source": [
    "# http://www.useragentstring.com/pages/useragentstring.php?name=Chrome\n",
    "headers = {'User-Agent': 'Mozilla/5.0 (Macintosh; Intel Mac OS X 10_15_3) AppleWebKit/537.36 (KHTML, like Gecko) Chrome/99.0.4844.84 Safari/537.36'}"
   ]
  },
  {
   "cell_type": "code",
   "execution_count": 75,
   "id": "523406e0-7978-4af2-9c6a-2fc8b6358d9d",
   "metadata": {},
   "outputs": [],
   "source": [
    "r = requests.get(url, headers=headers)"
   ]
  },
  {
   "cell_type": "code",
   "execution_count": 77,
   "id": "e4799129-f72e-4d2c-a8a2-4c171acc47fd",
   "metadata": {},
   "outputs": [
    {
     "data": {
      "text/plain": [
       "990"
      ]
     },
     "execution_count": 77,
     "metadata": {},
     "output_type": "execute_result"
    }
   ],
   "source": [
    "open(src[18:], 'wb').write(r.content)"
   ]
  },
  {
   "cell_type": "markdown",
   "id": "ed9631ef-5ad1-4403-80b5-b0054f68fdaf",
   "metadata": {},
   "source": [
    "# Get images"
   ]
  },
  {
   "cell_type": "code",
   "execution_count": 78,
   "id": "d6f085c3-dfe4-4ddf-b071-e766163b844e",
   "metadata": {},
   "outputs": [],
   "source": [
    "# http://www.useragentstring.com/pages/useragentstring.php?name=Chrome\n",
    "headers = {'User-Agent': 'Mozilla/5.0 (Macintosh; Intel Mac OS X 10_15_3) AppleWebKit/537.36 (KHTML, like Gecko) Chrome/99.0.4844.84 Safari/537.36'}"
   ]
  },
  {
   "cell_type": "code",
   "execution_count": 79,
   "id": "9d834d50-2af2-4535-ab91-3f666140dd35",
   "metadata": {},
   "outputs": [
    {
     "name": "stdout",
     "output_type": "stream",
     "text": [
      "img/product/inductor/inductor/smd/020001_klz1608_pi0101.png\n",
      "img/product/inductor/inductor/smd/020001_nlcv32-pf_pi0101.png\n",
      "img/product/inductor/inductor/smd/020001_vls3015cx-h_pi0101.png\n",
      "img/product/inductor/inductor/smd/020001_spm7054vt-d_pi0101.png\n",
      "img/product/inductor/inductor/smd/020001_vls3012hbx_pi0101.png\n",
      "img/product/inductor/inductor/smd/020001_spm6530-hz_pi0101.png\n",
      "img/product/inductor/inductor/smd/020001_vlbu6565100_pi0101.png\n",
      "img/product/inductor/inductor/smd/020001_mlz1608_pi0101.png\n",
      "img/product/inductor/inductor/smd/020001_vlcf4018-2_pi0101.png\n",
      "img/product/inductor/inductor/smd/020001_vlbu10060120_pi0101.png\n",
      "img/product/inductor/inductor/smd/020001_adl3225v_pi0101.png\n",
      "img/product/inductor/inductor/smd/020001_clf7045ni-d_pi0101.png\n",
      "img/product/inductor/inductor/smd/020001_mlg0402p_pi0101.png\n",
      "img/product/inductor/inductor/smd/020001_nlv25-pf_pi0101.png\n",
      "img/product/inductor/inductor/smd/020001_vlbu805080_pi0101.png\n",
      "img/product/inductor/inductor/smd/020001_adl2012_pi0101.png\n",
      "img/product/inductor/inductor/smd/020001_slf12565-h_pi0101.png\n",
      "img/product/inductor/inductor/smd/020001_mlj1005h_pi0101.png\n",
      "img/product/inductor/inductor/smd/020001_mlp1608_pi0101.png\n",
      "img/product/inductor/inductor/smd/020001_mlg0603p_pi0101.png\n",
      "img/product/inductor/inductor/smd/020001_mld2016_pi0101.png\n",
      "img/product/inductor/inductor/smd/020001_slf_pi0101.png\n",
      "img/product/inductor/inductor/smd/020001_adl3225vm_pi0101.png\n",
      "img/product/inductor/inductor/smd/020001_vlb10090ht-gt_pi0101.png\n",
      "img/product/inductor/inductor/smd/020001_mlg0603ppa_pi0101.png\n",
      "img/product/inductor/inductor/smd/020001_tfm160808_pi0101.png\n",
      "img/product/inductor/inductor/smd/020001_ltf4022-d_pi0101.png\n",
      "img/product/inductor/inductor/smd/020001_vlbu1024660f_pi0101.png\n",
      "img/product/inductor/inductor/smd/020001_mlf1608_pi0101.png\n",
      "img/product/inductor/inductor/smd/020001_spm4015-lr_pi0101.png\n",
      "img/product/inductor/inductor/smd/020001_vls6045ex-h_pi0101.png\n",
      "img/product/inductor/inductor/smd/020001_vlbu1007090_pi0101.png\n",
      "img/product/inductor/inductor/smd/020001_mlg0402q_pi0101.png\n",
      "img/product/inductor/inductor/smd/020001_vls252010hbu_pi0101.png\n",
      "img/product/inductor/inductor/transponder/020003_tc1210_pi0101.png\n",
      "img/product/inductor/inductor/smd/020001_tfm201208ald_pi0101.png\n",
      "img/product/inductor/inductor/smd/020001_vls252010hbx_pi0101.png\n",
      "img/product/inductor/inductor/smd/020001_vlbu9664100l_pi0101.png\n",
      "img/product/inductor/inductor/smd/020001_hpl758040f_pi0101.png\n",
      "img/product/inductor/inductor/smd/020001_tfm0ghm-tfm201610ghm_pi0101.png\n",
      "img/product/inductor/inductor/smd/020001_vlbs1007083_pi0101.png\n",
      "img/product/inductor/inductor/smd/020001_mlj1608_pi0101.png\n",
      "img/product/inductor/inductor/smd/020001_spm6530_pi0101.png\n",
      "img/product/inductor/inductor/smd/020001_mhq0603p_pi0101.png\n",
      "img/product/inductor/inductor/smd/020001_plea67_pi0101.png\n",
      "img/product/inductor/inductor/smd/020001_tfm201208bld_pi0101.png\n",
      "img/product/inductor/inductor/smd/020001_vlb7050_pi0101.png\n",
      "img/product/inductor/inductor/smd/020001_adl3225vt_pi0101.png\n",
      "img/product/inductor/inductor/smd/020001_tms252012alm_pi0101.png\n",
      "img/product/inductor/inductor/smd/020001_nlfv32-ef_pi0101.png\n",
      "img/product/inductor/inductor/smd/020001_vls6045ex_pi0101.png\n",
      "img/product/inductor/inductor/smd/020001_spm10040xt_pi0101.png\n"
     ]
    }
   ],
   "source": [
    "for src in product_img_srcs_set:\n",
    "    print(src[18:])\n",
    "    path = Path(src[18:])\n",
    "    path.parent.mkdir(parents=True, exist_ok=True)\n",
    "    url = url_base + src\n",
    "    r = requests.get(url, headers=headers)\n",
    "    open(src[18:], 'wb').write(r.content)\n",
    "    time.sleep(0.1)"
   ]
  },
  {
   "cell_type": "markdown",
   "id": "40bc99e2-ca2c-4474-bd36-af275fdf2ede",
   "metadata": {},
   "source": [
    "# capacitor"
   ]
  },
  {
   "cell_type": "code",
   "execution_count": 81,
   "id": "2f77d161-2d62-4a51-8449-9c0bca816b30",
   "metadata": {},
   "outputs": [],
   "source": [
    "url = \"https://product.tdk.com/ja/search/capacitor/catalog\""
   ]
  },
  {
   "cell_type": "code",
   "execution_count": 82,
   "id": "9f253a50-f2d9-4f52-9fca-528a12ef8c6e",
   "metadata": {},
   "outputs": [],
   "source": [
    "r = requests.get(url, headers=headers)"
   ]
  },
  {
   "cell_type": "code",
   "execution_count": 86,
   "id": "84fa0c11-a6d2-4ca7-be0c-061c489d3ce3",
   "metadata": {},
   "outputs": [],
   "source": [
    "soup = BeautifulSoup(r.text, 'html.parser')"
   ]
  },
  {
   "cell_type": "code",
   "execution_count": 87,
   "id": "bde15ab9-8bcc-4629-a108-f75141af8b7d",
   "metadata": {},
   "outputs": [],
   "source": [
    "img_tags = soup.find_all(\"img\")"
   ]
  },
  {
   "cell_type": "code",
   "execution_count": 88,
   "id": "ad223aa0-d1c7-42be-bae7-9fad00b762b7",
   "metadata": {},
   "outputs": [
    {
     "data": {
      "text/plain": [
       "850"
      ]
     },
     "execution_count": 88,
     "metadata": {},
     "output_type": "execute_result"
    }
   ],
   "source": [
    "len(img_tags)"
   ]
  },
  {
   "cell_type": "code",
   "execution_count": 89,
   "id": "3663fb92-e533-477e-b021-6aafd48a22fc",
   "metadata": {},
   "outputs": [],
   "source": [
    "product_img_tags = []\n",
    "product_img_srcs = []\n",
    "for i, img_tag in enumerate(img_tags):\n",
    "    if not img_tag.has_key('src'):\n",
    "        continue\n",
    "    if img_tag['src'].startswith(\"/system/files/dam/img/product\"):\n",
    "        product_img_tags.append(img_tag)\n",
    "        product_img_srcs.append(img_tag['src'])"
   ]
  },
  {
   "cell_type": "code",
   "execution_count": 90,
   "id": "217826ce-4e8a-44cb-8bd1-60a65ab9a2b1",
   "metadata": {},
   "outputs": [
    {
     "data": {
      "text/plain": [
       "108"
      ]
     },
     "execution_count": 90,
     "metadata": {},
     "output_type": "execute_result"
    }
   ],
   "source": [
    "len(product_img_srcs)"
   ]
  },
  {
   "cell_type": "code",
   "execution_count": 91,
   "id": "cf86b57b-c5a0-4e7c-9196-ae14f526829d",
   "metadata": {},
   "outputs": [],
   "source": [
    "product_img_srcs_set = set(product_img_srcs)"
   ]
  },
  {
   "cell_type": "code",
   "execution_count": 92,
   "id": "e630110e-a284-45c5-bda4-17a02b0bce3a",
   "metadata": {},
   "outputs": [
    {
     "data": {
      "text/plain": [
       "32"
      ]
     },
     "execution_count": 92,
     "metadata": {},
     "output_type": "execute_result"
    }
   ],
   "source": [
    "len(product_img_srcs_set)"
   ]
  },
  {
   "cell_type": "code",
   "execution_count": 93,
   "id": "051fc5d8-6b93-4ae3-a9cd-9d4f46ca0d40",
   "metadata": {},
   "outputs": [
    {
     "name": "stdout",
     "output_type": "stream",
     "text": [
      "img/product/capacitor/ceramic/mlcc/010101_commercial-cga_pi0101.png\n",
      "img/product/capacitor/aluminum-electrolytic/hybrid-polymer/010208_b40620_kal1891-9_va_pi0101.png\n",
      "img/product/capacitor/edlc/edlc/010601_edlc041720_pi0101.png\n",
      "img/product/capacitor/ceramic/mlcc/010101_commercial-lowprofile_pi0101.png\n",
      "img/product/capacitor/ceramic/mlcc/010101_commercial-lwreverse_pi0101.png\n",
      "img/product/capacitor/edlc/edlc/010601_edlc381420_pi0101.png\n",
      "img/product/capacitor/ceramic/mlcc/010101_caa573-b_pi0101.png\n",
      "img/product/capacitor/aluminum-electrolytic/hybrid-polymer/010208_axial_kal1715-b_d14x25_pi0101.png\n",
      "img/product/capacitor/aluminum-electrolytic/hybrid-polymer/010208_b40650_kal1873-a_14x25_ax_pi0101.png\n",
      "img/product/capacitor/ceramic/mlcc/010101_commercial-general2_pi0101.png\n",
      "img/product/capacitor/aluminum-electrolytic/hybrid-polymer/010208_soldering_star_kal1714-3_d16x25_pi0101.png\n",
      "img/product/capacitor/ceramic/mlcc/010101_commercial-general1_pi0101.png\n",
      "img/product/capacitor/ceramic/uhv/010105_106040_fd_pi0101.png\n",
      "img/product/capacitor/ceramic/magnetron/010105_106040_uhv-fhv_pi0101.png\n",
      "img/product/capacitor/ceramic/mlcc/010101_commercial-uli_pi0101.png\n",
      "img/product/capacitor/ceramic/mlcc/010101_cna5l-b_pi0101.png\n",
      "img/product/capacitor/edlc/edlc/010601_edlc302520_pi0101.png\n",
      "img/product/capacitor/ceramic/feedthrough/010104_ftmlcc_pi0101.png\n",
      "img/product/capacitor/ceramic/mlcc/010101_commercial-megacap_pi0101.png\n",
      "img/product/capacitor/ceramic/ceralink/010107_b58043_clc0027-0_pi0101.png\n",
      "img/product/capacitor/ceramic/uhv/010105_106040_uhv-fhv_pi0101.png\n",
      "img/product/capacitor/ceramic/lead-mlcc/010103_lead-mlcc_pi0101.png\n",
      "img/product/capacitor/edlc/edlc/010601_edlc262520_pi0101.png\n",
      "img/product/capacitor/ceramic/ceralink/010107_ceralink_b58035_fa3_pi0101.png\n",
      "img/product/capacitor/ceramic/uhv/010105_tsf-40c_pi0801s.png\n",
      "img/product/capacitor/aluminum-electrolytic/hybrid-polymer/010208_b40750_kal1875-c_14x25_3pin_pi0101.png\n",
      "img/product/capacitor/ceramic/lead-disc/010102_lead-disc_pi0101.png\n",
      "img/product/capacitor/edlc/edlc/010601_edlc212520_pi0101.png\n",
      "img/product/capacitor/ceramic/ceralink/010107_ceralink_b58033_pi0101.png\n",
      "img/product/capacitor/edlc/edlc/010601_edlc371420_pi0101.png\n",
      "img/product/capacitor/aluminum-electrolytic/hybrid-polymer/010208_b40720_kal1892-0_va_pi0101.png\n",
      "img/product/capacitor/ceramic/ceralink/010107_ceralink_b58031u5_pi0101.png\n"
     ]
    }
   ],
   "source": [
    "for src in product_img_srcs_set:\n",
    "    print(src[18:])\n",
    "    path = Path(src[18:])\n",
    "    path.parent.mkdir(parents=True, exist_ok=True)\n",
    "    url = url_base + src\n",
    "    r = requests.get(url, headers=headers)\n",
    "    open(src[18:], 'wb').write(r.content)\n",
    "    time.sleep(0.1)"
   ]
  },
  {
   "cell_type": "markdown",
   "id": "db0a12e0-bf13-41e0-ae22-704aa10af5eb",
   "metadata": {},
   "source": [
    "# Get images from all other catalogs"
   ]
  },
  {
   "cell_type": "code",
   "execution_count": 94,
   "id": "e6128ea8-b043-4724-bc5d-2dcf34b873d6",
   "metadata": {},
   "outputs": [],
   "source": [
    "urls = [\n",
    "'https://product.tdk.com/ja/search/emc/catalog',\n",
    "'https://product.tdk.com/ja/search/protection/catalog',\n",
    "'https://product.tdk.com/ja/search/sensor/catalog',\n",
    "'https://product.tdk.com/ja/search/sw_piezo/catalog',\n",
    "'https://product.tdk.com/ja/search/transformer/catalog',\n",
    "'https://product.tdk.com/ja/search/ferrite/catalog',\n",
    "'https://product.tdk.com/ja/search/noise_magnet-sheet/catalog',\n",
    "'https://product.tdk.com/ja/search/wireless-charge/catalog',\n",
    "]"
   ]
  },
  {
   "cell_type": "code",
   "execution_count": 95,
   "id": "3928c99a-37d1-4b5c-b468-dbdd0de2b008",
   "metadata": {},
   "outputs": [
    {
     "name": "stdout",
     "output_type": "stream",
     "text": [
      "https://product.tdk.com/ja/search/emc/catalog\n",
      "img/product/emc/emc/beads/030001_mxz1005_pi0101.png\n",
      "img/product/emc/emc/line-filter/030006_aml0519_pi0101.png\n",
      "img/product/emc/emc/power-line/030009_rthn_pi0101.png\n",
      "img/product/emc/emc/cmf_cmc/030003_tcm0906c_pi0101.png\n",
      "img/product/emc/emc/power-line/030009_rten-2_pi0101.png\n",
      "img/product/emc/emc/suppression-filter/030013_maf1005_pi0101.png\n",
      "img/product/emc/emc/3tf/030002_mea1608pe_pi0101.png\n",
      "img/product/emc/emc/power-line/030009_rpe-f_pi0101.png\n",
      "img/product/emc/emc/power-line/030009_rsal_pi0101.png\n",
      "img/product/emc/emc/cmf_cmc/030003_mcz1210dh_pi0101.png\n",
      "img/product/emc/emc/cmf_cmc/030003_tcm0605t_pi0101.png\n",
      "img/product/emc/emc/power-line/030009_rsag_pi0101.png\n",
      "img/product/emc/emc/power-line/030009_rsmn_pi0101.png\n",
      "img/product/emc/emc/power-line/030009_rten-5100j9j3_pi0101.png\n",
      "img/product/emc/emc/cmf_cmc/030003_act45b_pi0101.png\n",
      "img/product/emc/emc/power-line/030009_rsel-m_pi0101.png\n",
      "img/product/emc/emc/cmf_cmc/030003_acp3225_pi0101.png\n",
      "img/product/emc/emc/power-line/030009_rtan_pi0101.png\n",
      "img/product/emc/emc/3tf/030002_mea2010lc_pi0101.png\n",
      "img/product/emc/emc/power-line/030009_rthb_pi0101.png\n",
      "img/product/emc/emc/power-line/030009_rthc_pi0101.png\n",
      "img/product/emc/emc/cmf_cmc/030003_act1210_pi0101.png\n",
      "img/product/emc/emc/power-line/030009_rthn-2_pi0101.png\n",
      "img/product/emc/emc/3tf/030002_mem1005pp_pi0101.png\n",
      "img/product/emc/emc/cmf_cmc/030003_acm7060_pi0101.png\n",
      "img/product/emc/emc/suppression-filter/030013_maf2520_pi0101.png\n",
      "img/product/emc/emc/3tf/030002_mem2012s_pi0101.png\n",
      "img/product/emc/emc/cmf_cmc/030003_acm2012h-t05_pi0101.png\n",
      "img/product/emc/emc/clamp/030005_zcat-v_pi0101.png\n",
      "img/product/emc/emc/power-line/030009_rsan_pi0101.png\n",
      "img/product/protection/voltage/varistor_ctvs/050102_mlv060303-b015_pi0101.png\n",
      "img/product/emc/emc/cmf_cmc/030003_act45r_pi0101.png\n",
      "img/product/emc/emc/clamp/030005_zcat_pi0101.png\n",
      "img/product/emc/emc/cmf_cmc/030003_acm4520_pi0101.png\n",
      "img/product/emc/emc/power-line/030009_rtcn_pi0101.png\n",
      "img/product/emc/emc/power-line/030009_rpe_pi0101.png\n",
      "img/product/emc/emc/power-line/030009_rden_pi0101.png\n",
      "img/product/emc/emc/cmf_cmc/030003_tcm0605s_pi0101.png\n",
      "img/product/emc/emc/3tf/030002_yff15sc_pi0101.png\n",
      "img/product/emc/emc/3tf/030002_mem1608p_pi0101.png\n",
      "img/product/emc/emc/cmf_cmc/030003_mcz1210ch_pi0101.png\n",
      "img/product/emc/emc/suppression-filter/030013_vaf201610fa-1_pi0101.png\n",
      "img/product/emc/emc/power-line/030009_rseg_pi0101.png\n",
      "img/product/emc/emc/3tf/030002_mem1608d_pi0101.png\n",
      "img/product/emc/emc/power-line/030009_rsen_pi0101.png\n",
      "img/product/emc/emc/power-line/030009_rskn_pi0101.png\n",
      "img/product/emc/emc/3tf/030002_mea2010l_pi0101.png\n",
      "img/product/emc/emc/power-line/030009_rpa_pi0101.png\n",
      "img/product/emc/emc/cmf_cmc/030003_acm2012_pi0101.png\n",
      "img/product/emc/emc/3tf/030002_mem2012sc_pi0101.png\n",
      "img/product/emc/emc/power-line/030009_rsec_pi0101.png\n",
      "img/product/emc/emc/cmf_cmc/030003_acm2520-2p_pi0101.png\n",
      "img/product/emc/emc/power-line/030009_rsev_pi0101.png\n",
      "img/product/emc/emc/suppression-filter/030013_vfs5045_pi0101.png\n",
      "img/product/emc/emc/power-line/030009_rtmn_pi0101.png\n",
      "img/product/emc/emc/suppression-filter/030013_mhf1608_pi0101.png\n",
      "img/product/emc/emc/power-line/030009_rsel_pi0101.png\n",
      "img/product/emc/emc/power-line/030009_rten_pi0101.png\n",
      "img/product/emc/emc/cmf_cmc/030003_acm70v_pi0101.png\n",
      "img/product/emc/emc/power-line/030009_rshn_pi0101.png\n",
      "img/product/emc/emc/cmf_cmc/030003_act1210r_pi0101.png\n",
      "img/product/emc/emc/power-line/030009_b84743-r712_pi0101.png\n",
      "img/product/emc/emc/3tf/030002_mea1608lc_pi0101.png\n",
      "img/product/emc/emc/cmf_cmc/030003_act1210l_pi0101.png\n",
      "https://product.tdk.com/ja/search/protection/catalog\n",
      "img/product/protection/voltage/lead-disk-varistor/050104_q14_pi0101.png\n",
      "img/product/protection/current/telecom-ptc/050204_t1835_ptc_t18_pi0101.png\n",
      "img/product/protection/voltage/lead-disk-varistor/050104_s14_e2_pi0101.png\n",
      "img/product/protection/voltage/strap-varistor/050107_ls41_qp_pi0101.png\n",
      "img/product/protection/current/ptc-thermistor/050203_c810-c995_tpt0521-v_pi0101.png\n",
      "img/product/protection/voltage/lead-disk-varistor/050104_s25_e4r12_pi0101.png\n",
      "img/product/protection/voltage/lead-disk-varistor/050104_snf20_pi0101.png\n",
      "img/product/protection/voltage/lead-disk-varistor/050104_b72310s_s10_var0637-b_lm_pi0101.png\n",
      "img/product/protection/current/ptc-limiter/050201_j213_j215_j217_j219_tpt1151-g_pi0101.png\n",
      "img/product/protection/voltage/lead-disk-varistor/050104_snf10_pi0101.png\n",
      "img/product/protection/current/ptc-thermistor/050203_a404-a907_tpt0520-w_pi0101.png\n",
      "img/product/protection/voltage/lead-disk-varistor/050104_snf14_pi0101.png\n",
      "img/product/protection/voltage/smd-disk-varistor/050105_cu_auto_4032_3225_pi0101.png\n",
      "img/product/protection/voltage/smd-disk-varistor/050105_cu_standard_4032_3225_pi0101.png\n",
      "img/product/protection/voltage/chip_protector/050114_sgne04_pi0101.png\n",
      "img/product/protection/voltage/lead-disk-varistor/050104_s10_e2k1_pi0101.png\n",
      "img/product/protection/voltage/lead-disk-varistor/050104_s20_e3k1_pi0101.png\n",
      "img/product/protection/voltage/varistor_ctvs/050102_avrm2012_pi0101.png\n",
      "img/product/protection/current/ptc-thermistor/050203_p1101_p1115_p1201_p1215_tpt0857-f_pi0101.png\n",
      "img/product/protection/current/telecom-ptc/050204_t1735_t1750_ptc_t17_pi0101.png\n",
      "img/product/protection/current/telecom-ptc/050204_t1635_t1650_ptc_t16_pi0101.png\n",
      "img/product/protection/voltage/tvs_diode/050117_mlv0704-e_pi0101.png\n",
      "img/product/protection/current/ptc-thermistor/050203_c1412_c1451_tpt1075-t_pi0101.png\n",
      "img/product/protection/voltage/block-varistor/050108_b32%2Bb60_pi0101.png\n",
      "img/product/protection/voltage/lead-disk-varistor/050104_s10_pi0101.png\n",
      "img/product/protection/voltage/strap-varistor/050107_ls40_qp_pi0101.png\n",
      "img/product/protection/voltage/tvs_diode/050117_mlv0706-g_pi0101.png\n",
      "img/product/protection/current/ptc-limiter/050201_c1451_tpt1075-t_2_pi0101.png\n",
      "img/product/protection/voltage/lead-disk-varistor/050104_s14e2k55_pi0101.png\n",
      "img/product/protection/voltage/lead-disk-varistor/050104_b72307s_s07k11_var0466-c_lm_pi0101.png\n",
      "img/product/protection/voltage/lead-disk-varistor/050104_s10_e2_pi0101.png\n",
      "img/product/protection/voltage/strap-varistor/050107_ls50_pk2_pi0101.png\n",
      "img/product/protection/current/telecom-ptc/050204_c1084-c1184_u1154_tpt1157-o_pi0101.png\n",
      "img/product/protection/current/ptc-thermistor/050203_b404_b406_tpt0614j_pi0101.png\n",
      "img/product/protection/voltage/ring-varistor/050109_var-18_pi0101.png\n",
      "https://product.tdk.com/ja/search/sensor/catalog\n",
      "img/product/sensor/ptc/motor-protection/070202_motor-prot-sensors_m1100_tpt0524k_pi0101.png\n",
      "img/product/sensor/ntc/ntc_element/070101_ntcd_s_a_e_z_pi0101.png\n",
      "img/product/sensor/ntc/ntc_assy/070102_ntc-assy%20catalog%20index%2020191105_pi0101.png\n",
      "img/product/sensor/ptc/limit-temp/070201_c100_tpt0542-l_pi0101.png\n",
      "img/product/sensor/ptc/limit-temp/070201_d1052_tpt1131-h_pi0101.png\n",
      "img/product/sensor/level/liquid_level/070301_liquid-level-sensors_e11_tpt0664k_pi0101.png\n",
      "img/product/sensor/level/liquid_level/070301_liquid-level-sensors_d1050_tpt0974b_pi0101.png\n",
      "img/product/sensor/sensor/humidity/070001_chs_pi0101.png\n",
      "img/product/sensor/toner/toner/070601_ts_pi0101.png\n",
      "img/product/sensor/angle/tmr-angle/070901_sensor_angle_tmr_pi0101.png\n",
      "img/product/sensor/ptc/limit-temp/070201_a404-a907_tpt0520-w_pi0101.png\n",
      "img/product/sensor/ntc/chip-ntc-thermistor/070103_ntcg06_pi0101.png\n",
      "img/product/sensor/ptc/motor-protection/070202_motor-prot-sensors_m1300_tpt0525t_pi0101.png\n",
      "img/product/sensor/level/powder-level/070302_tsp15_pi0101.png\n",
      "img/product/sensor/current/current_clamp/070802_cct323047_pi0101.png\n",
      "img/product/sensor/ptc/limit-temp/070201_c8_tpt0618-h_pi0101.png\n",
      "img/product/sensor/rot/gear-tooth/070702_ps-hr_pi0101.png\n",
      "https://product.tdk.com/ja/search/sw_piezo/catalog\n",
      "img/product/sw_piezo/sw_piezo/em-buzzer/080008_sd-sdr_pi0101.png\n",
      "img/product/sw_piezo/haptic/piezohapt/080101_phua3015-30a-21-000_fpc_pi0101.png\n",
      "img/product/sw_piezo/sw_piezo/ptc_heat-element/080004_r41_tpt0527-a_pi0101.png\n",
      "img/product/sw_piezo/haptic/piezohapt/080101_phub8060-35a-33-000_fpc_pi0101.png\n",
      "img/product/sw_piezo/sw_piezo/em-buzzer/080008_sdc_pi0101.png\n",
      "img/product/sw_piezo/sw_piezo/ptc_motor/080001_tpt0785-e_pi0101.png\n",
      "img/product/sw_piezo/sw_piezo/nebulizer/080010_nb_pi0101.png\n",
      "img/product/sw_piezo/sw_piezo/ptc_heat-element/080004_a53_a60_tpt05262_pi0101.png\n",
      "img/product/sw_piezo/speaker/piezolisten/080401_phua3030-049b_top_pi0101.png\n",
      "img/product/sw_piezo/sw_piezo/ptc_switch/080002_j286_j29_tpt05585_pi0101.png\n",
      "img/product/sw_piezo/sw_piezo/piezo-buzzer/080007_ps_pi0101.png\n",
      "https://product.tdk.com/ja/search/transformer/catalog\n",
      "img/product/transformer/transformer/pfc-choke/090002_pfc_pi0101.png\n",
      "img/product/transformer/transformer/bms/090011_bms-xfmr_vgt10_9ee-204s2p4_pi0101.png\n",
      "img/product/transformer/transformer/ac_dc-converter/090012_srv_pi0101.png\n",
      "img/product/transformer/transformer/bms/090011_bms-xfmr_vmt40dr-201s2p4_pi0101.png\n",
      "img/product/transformer/transformer/ac_dc-converter/090012_eco_pi0101.png\n",
      "img/product/transformer/transformer/ac_dc-converter/090012_srw_pi0101.png\n",
      "img/product/transformer/transformer/lan/090007_alt3232m-151_pi0101.png\n",
      "img/product/emc/emc/cmf_cmc/030003_acm2012h-t05_pi0101.png\n",
      "img/product/transformer/transformer/current-sense/090004_vst12-6ef-204s1c2_pi0101.png\n",
      "img/product/transformer/transformer/gate-drive/090005_igbt-fet-pi0101.png\n",
      "img/product/transformer/transformer/lan/090007_alt4532h_pi0101.png\n",
      "img/product/emc/emc/cmf_cmc/030003_acm2012_pi0101.png\n",
      "img/product/transformer/transformer/lan/090007_alt4532p_pi0101.png\n",
      "img/product/transformer/transformer/lan/090007_alt_eva-board_alt4532-eva-01a_pi0101.png\n",
      "https://product.tdk.com/ja/search/ferrite/catalog\n",
      "img/product/ferrite/ferrite/ferrite-core/100012_100007_uu_pi0101.png\n",
      "img/product/ferrite/ferrite/ferrite-core/100012_100005_ep_pi0101.png\n",
      "img/product/ferrite/ferrite/ferrite-core/100012_100001_pq_pi0101.png\n",
      "img/product/ferrite/ferrite/ferrite-core/100012_img_ferrites_summary.png\n",
      "img/product/ferrite/ferrite/ferrite-core/100012_100009_f_hf70mh2.5x2.5x20_pi0101.png\n",
      "img/product/ferrite/ferrite/ferrite-core/100012_100002_elt_pqi_eir_ei_pi0101.png\n",
      "img/product/ferrite/ferrite/ferrite-core/100012_100008_t_pi0101.png\n",
      "img/product/ferrite/ferrite/ferrite-core/100012_100003_eer26_pi0101.png\n",
      "img/product/ferrite/ferrite/ferrite-core/100012_100004_rm10_pi0101.png\n",
      "https://product.tdk.com/ja/search/noise_magnet-sheet/catalog\n",
      "img/product/noise_magnet-sheet/noise_magnet-sheet/noise-sheet-high/110001_noise-ifl_pi0101.png\n",
      "img/product/noise_magnet-sheet/noise_magnet-sheet/noise-sheet-high/110001_noise-ifm-hy_pi0101.png\n",
      "img/product/noise_magnet-sheet/noise_magnet-sheet/noise-sheet-high/110001_noise-iff08_pi0101.png\n",
      "https://product.tdk.com/ja/search/wireless-charge/catalog\n",
      "img/product/wireless-charge/wireless-charge/rx-coil-module/160009_wr483245-15f5-g_pi0101.png\n",
      "img/product/wireless-charge/wireless-charge/rx-coil-module/160009_wr303050-15f5-g_pi0101.png\n",
      "img/product/wireless-charge/wireless-charge/rx-coil-module/160009_wr222230-26m8-g_pi0101.png\n",
      "img/product/wireless-charge/wireless-charge/tx-coil-module/160008_wt303012-12f2-id_pi0101.png\n",
      "img/product/wireless-charge/wireless-charge/tx-coil-module/160008_wt505090-10f2-a11-g1_pi0101.png\n",
      "img/product/wireless-charge/wireless-charge/tx-coil-module/160008_wtm905525-12f2-12v-g_pi0101.png\n",
      "img/product/wireless-charge/wireless-charge/rx-coil-module/160009_wr121210-27m8-id_pi0101.png\n",
      "img/product/wireless-charge/wireless-charge/rx-coil-module/160009_wr221230-36m8-g_pi0101.png\n",
      "img/product/wireless-charge/wireless-charge/rx-coil-module/160009_wr202010-18m8-id_pi0101.png\n",
      "img/product/wireless-charge/wireless-charge/tx-coil-module/160008_wt151512-22f2-id_pi0101.png\n",
      "img/product/wireless-charge/wireless-charge/nfc-combo-rx-coil/160003_wr524830-16f3-nf-g_pi0101.png\n",
      "img/product/wireless-charge/wireless-charge/rx-coil-module/160009_wr444025-17m6-g_pi0101.png\n",
      "img/product/wireless-charge/wireless-charge/tx-coil-module/160008_wt505090-10f2-lp-g_pi0101.png\n",
      "img/product/wireless-charge/wireless-charge/rx-coil-module/160009_wr303050-12f5-id_pi0101.png\n",
      "img/product/wireless-charge/wireless-charge/rx-coil-module/160009_wr444030-16f3-g_pi0101.png\n",
      "img/product/wireless-charge/wireless-charge/tx-coil-module/160008_wt1005690-12f2-a6-g1_pi0101.png\n",
      "img/product/wireless-charge/wireless-charge/tx-coil-module/160008_wt505090-20k2-a10-g_pi0101.png\n",
      "img/product/wireless-charge/wireless-charge/rx-coil-module/160009_wrm483265-10f5-12v-g_pi0101.png\n",
      "img/product/wireless-charge/wireless-charge/tx-coil-module/160008_wt202012-15f2-id_pi0101.png\n",
      "img/product/wireless-charge/wireless-charge/rx-coil-module/160009_wr301025-19m8-g_pi0101.png\n",
      "img/product/wireless-charge/wireless-charge/rx-coil-module/160009_wr483265-15f5-g_pi0101.png\n",
      "img/product/wireless-charge/wireless-charge/ind-equip-sys/160010_wpx1000_pi0004.png\n"
     ]
    }
   ],
   "source": [
    "for url in urls:\n",
    "    print(url)\n",
    "    r = requests.get(url, headers=headers)\n",
    "    soup = BeautifulSoup(r.text, 'html.parser')\n",
    "    img_tags = soup.find_all(\"img\")\n",
    "    product_img_tags = []\n",
    "    product_img_srcs = []\n",
    "    for i, img_tag in enumerate(img_tags):\n",
    "        if not img_tag.has_key('src'):\n",
    "            continue\n",
    "        if img_tag['src'].startswith(\"/system/files/dam/img/product\"):\n",
    "            product_img_tags.append(img_tag)\n",
    "            product_img_srcs.append(img_tag['src'])\n",
    "    product_img_srcs_set = set(product_img_srcs)\n",
    "    for src in product_img_srcs_set:\n",
    "        print(src[18:])\n",
    "        path = Path(src[18:])\n",
    "        path.parent.mkdir(parents=True, exist_ok=True)\n",
    "        url = url_base + src\n",
    "        r = requests.get(url, headers=headers)\n",
    "        open(src[18:], 'wb').write(r.content)\n",
    "        time.sleep(0.1)\n",
    "    "
   ]
  },
  {
   "cell_type": "code",
   "execution_count": null,
   "id": "18a65c2e-fade-4f2a-be65-371527f66d5d",
   "metadata": {},
   "outputs": [],
   "source": []
  }
 ],
 "metadata": {
  "kernelspec": {
   "display_name": "Python 3 (ipykernel)",
   "language": "python",
   "name": "python3"
  },
  "language_info": {
   "codemirror_mode": {
    "name": "ipython",
    "version": 3
   },
   "file_extension": ".py",
   "mimetype": "text/x-python",
   "name": "python",
   "nbconvert_exporter": "python",
   "pygments_lexer": "ipython3",
   "version": "3.9.4"
  }
 },
 "nbformat": 4,
 "nbformat_minor": 5
}
