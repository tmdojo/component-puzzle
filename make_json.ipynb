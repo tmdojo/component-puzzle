{
 "cells": [
  {
   "cell_type": "code",
   "execution_count": 18,
   "id": "ee718ddf",
   "metadata": {},
   "outputs": [],
   "source": [
    "import glob"
   ]
  },
  {
   "cell_type": "code",
   "execution_count": 19,
   "id": "aa5b2627",
   "metadata": {},
   "outputs": [],
   "source": [
    "import json"
   ]
  },
  {
   "cell_type": "code",
   "execution_count": 20,
   "id": "75ede2c6",
   "metadata": {},
   "outputs": [],
   "source": [
    "imgs = glob.glob(\"img/**/*\")"
   ]
  },
  {
   "cell_type": "code",
   "execution_count": 21,
   "id": "38d1bbf4",
   "metadata": {},
   "outputs": [
    {
     "data": {
      "text/plain": [
       "['img/capacitor/010107_b58043_clc0027-0_pi0101.png',\n",
       " 'img/capacitor/010104_ftmlcc_pi0101.png',\n",
       " 'img/capacitor/010101_commercial-general1_pi0101.png',\n",
       " 'img/capacitor/010101_commercial-lowprofile_pi0101.png',\n",
       " 'img/capacitor/010101_commercial-cga_pi0101.png',\n",
       " 'img/capacitor/010105_106040_uhv-fhv_pi0101.png',\n",
       " 'img/inductor/020001_mld2016_pi0101.png',\n",
       " 'img/inductor/020001_mlj1005h_pi0101.png',\n",
       " 'img/inductor/020001_tms252012alm_pi0101.png',\n",
       " 'img/inductor/020001_tfm201208bld_pi0101.png',\n",
       " 'img/inductor/020001_nlfv32-ef_pi0101.png',\n",
       " 'img/inductor/020001_mlg0402q_pi0101.png',\n",
       " 'img/inductor/020001_mlj1608_pi0101.png',\n",
       " 'img/inductor/020001_mhq0603p_pi0101.png',\n",
       " 'img/inductor/020001_slf12565-h_pi0101.png',\n",
       " 'img/emc/030002_mea2010l_pi0101.png',\n",
       " 'img/emc/030002_yff15sc_pi0101.png',\n",
       " 'img/emc/030002_mem1608d_pi0101.png',\n",
       " 'img/emc/030001_mxz1005_pi0101.png',\n",
       " 'img/emc/030003_mcz1210dh_pi0101.png',\n",
       " 'img/emc/030013_maf1005_pi0101.png',\n",
       " 'img/emc/030013_maf2520_pi0101.png']"
      ]
     },
     "execution_count": 21,
     "metadata": {},
     "output_type": "execute_result"
    }
   ],
   "source": [
    "imgs"
   ]
  },
  {
   "cell_type": "code",
   "execution_count": 22,
   "id": "f28bfe51",
   "metadata": {},
   "outputs": [],
   "source": [
    "data = {}"
   ]
  },
  {
   "cell_type": "code",
   "execution_count": 23,
   "id": "c90b3068",
   "metadata": {},
   "outputs": [],
   "source": [
    "capacitors = []\n",
    "inductors = []\n",
    "emcs = []\n",
    "for img in imgs:\n",
    "    group = img.split(\"/\")[1]\n",
    "    part = {}\n",
    "    if  group == \"capacitor\":\n",
    "        part['url'] = \"https://product.tdk.com/en/search/capacitor/catalog\"\n",
    "        part['group'] = \"capacitor\"\n",
    "        part['img'] = img\n",
    "        capacitors.append(part)\n",
    "    elif group == \"inductor\":\n",
    "        part['url'] = \"https://product.tdk.com/en/search/inductor/catalog\"\n",
    "        part['group'] = \"inductor\"\n",
    "        part['img'] = img\n",
    "        inductors.append(part)\n",
    "    elif group == \"emc\":\n",
    "        part['url'] = \"https://product.tdk.com/en/search/emc/catalog\"\n",
    "        part['group'] = \"emc\"\n",
    "        part['img'] = img\n",
    "        emcs.append(part)\n"
   ]
  },
  {
   "cell_type": "code",
   "execution_count": 24,
   "id": "39116f3c",
   "metadata": {},
   "outputs": [],
   "source": [
    "data['Capacitors'] = capacitors\n",
    "data['Inductors'] = inductors\n",
    "data['EMC components'] = emcs"
   ]
  },
  {
   "cell_type": "code",
   "execution_count": 25,
   "id": "7018dcb8",
   "metadata": {},
   "outputs": [],
   "source": [
    "with open(\"data.json\", \"w\") as f:\n",
    "    json.dump(data, f)"
   ]
  },
  {
   "cell_type": "code",
   "execution_count": null,
   "id": "3548bc10",
   "metadata": {},
   "outputs": [],
   "source": []
  }
 ],
 "metadata": {
  "kernelspec": {
   "display_name": "Python 3 (ipykernel)",
   "language": "python",
   "name": "python3"
  },
  "language_info": {
   "codemirror_mode": {
    "name": "ipython",
    "version": 3
   },
   "file_extension": ".py",
   "mimetype": "text/x-python",
   "name": "python",
   "nbconvert_exporter": "python",
   "pygments_lexer": "ipython3",
   "version": "3.9.4"
  }
 },
 "nbformat": 4,
 "nbformat_minor": 5
}
